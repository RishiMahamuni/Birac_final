{
 "cells": [
  {
   "cell_type": "code",
   "execution_count": 6,
   "metadata": {},
   "outputs": [],
   "source": [
    "#staring the project\n",
    "#importing necessity libraries\n",
    "import numpy as np\n",
    "import pandas as pd\n",
    "%matplotlib inline\n",
    "import matplotlib.pyplot as plt\n",
    "import seaborn as sns\n",
    "import sys\n",
    "import warnings\n",
    "import sys\n",
    "if not sys.warnoptions:\n",
    "    warnings.simplefilter(\"ignore\")  "
   ]
  },
  {
   "cell_type": "code",
   "execution_count": 7,
   "metadata": {},
   "outputs": [],
   "source": [
    "from configparser import ConfigParser\n",
    "def config_parse():\n",
    "    \"\"\" configures all the things \n",
    "    \n",
    "    parameters: no parameteris,\n",
    "    \n",
    "    \n",
    "    returns: 1.healthy_filpath,\n",
    "    2.inoculated_filepath\n",
    "    \n",
    "    \"\"\"\n",
    "    \n",
    "    config = ConfigParser()\n",
    "    config.read('config_file.ini')\n",
    "    print(config.sections())\n",
    "    for key in config['path']:\n",
    "       print(key)\n",
    "    healthy_ds = config.get('path', 'reflectance_data_healthy')\n",
    "    inoculated_ds = config.get('path', 'reflectance_data_inoculated')\n",
    "    return healthy_ds,inoculated_ds"
   ]
  },
  {
   "cell_type": "code",
   "execution_count": 16,
   "metadata": {},
   "outputs": [],
   "source": [
    "def preprocessing():\n",
    "    \n",
    "     ###reading data \n",
    "    print('hiiii')\n",
    "    input_paths = list()\n",
    "    input_paths = config_parse()\n",
    "    print(input_paths)\n",
    "    df = list()\n",
    "    \n",
    "    for d in input_paths:\n",
    "        df.append(pd.read_excel(d))\n",
    "        \n",
    "    print(df[1])"
   ]
  },
  {
   "cell_type": "code",
   "execution_count": 17,
   "metadata": {},
   "outputs": [
    {
     "name": "stdout",
     "output_type": "stream",
     "text": [
      "hiiii\n",
      "['path', 'excel_sheet_name', 'topsecret.server.com']\n",
      "reflectance_data_healthy\n",
      "reflectance_data_inoculated\n",
      "('RH.xls', 'RI.xls')\n",
      "   Unnamed: 0      1      2      3      4      5      6      7      8      9\n",
      "0         470   0.00   0.00   0.00   0.00   0.00   0.00   0.00   0.00   2.24\n",
      "1         560  10.80   7.45   7.08   5.96  10.80  16.39  11.92  18.25   2.24\n",
      "2         670   3.73   2.98   2.98   1.49   1.86   3.73   4.10   4.10   8.94\n",
      "3         720  36.51  35.39  38.75  31.67  32.41  38.00  43.96  39.12  38.37\n",
      "4         780  59.98  76.37  65.57  58.86  61.84  54.39  62.96  54.39  51.04\n",
      "5         840  52.90  84.57  62.96  51.41  72.65  52.16  53.27  55.51  57.00\n",
      "6         900  66.69  86.43  90.90  81.96  95.00  60.73  62.22  60.35  59.98\n",
      "7         970  63.33  78.24  78.98  59.24  95.00  59.24  78.98  54.39  65.94\n"
     ]
    }
   ],
   "source": [
    "preprocessing()"
   ]
  },
  {
   "cell_type": "code",
   "execution_count": null,
   "metadata": {},
   "outputs": [],
   "source": []
  }
 ],
 "metadata": {
  "kernelspec": {
   "display_name": "project_big",
   "language": "python",
   "name": "project_big"
  },
  "language_info": {
   "codemirror_mode": {
    "name": "ipython",
    "version": 3
   },
   "file_extension": ".py",
   "mimetype": "text/x-python",
   "name": "python",
   "nbconvert_exporter": "python",
   "pygments_lexer": "ipython3",
   "version": "3.7.5"
  }
 },
 "nbformat": 4,
 "nbformat_minor": 4
}
